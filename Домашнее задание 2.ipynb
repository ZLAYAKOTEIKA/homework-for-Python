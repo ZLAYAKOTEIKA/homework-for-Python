{
  "metadata": {
    "kernelspec": {
      "name": "python",
      "display_name": "Python (Pyodide)",
      "language": "python"
    },
    "language_info": {
      "codemirror_mode": {
        "name": "python",
        "version": 3
      },
      "file_extension": ".py",
      "mimetype": "text/x-python",
      "name": "python",
      "nbconvert_exporter": "python",
      "pygments_lexer": "ipython3",
      "version": "3.8"
    }
  },
  "nbformat_minor": 5,
  "nbformat": 4,
  "cells": [
    {
      "id": "1d227b09",
      "cell_type": "markdown",
      "source": "# Парное выравнивание",
      "metadata": {}
    },
    {
      "id": "09ebf420",
      "cell_type": "markdown",
      "source": "# Порядок сдачи домашнего",
      "metadata": {}
    },
    {
      "id": "b2e6a39f",
      "cell_type": "markdown",
      "source": "Вам требуется создать гит репозиторий куда вы будете складывать все ваши домашние. Под каждое домашнее вы создаете отдельную ветку куда вносите все изменения в рамках домашнего. Как только домашнее готово - создаете пулл реквест (обратите внимание что в пулл реквесте должны быть отражены все изменения в рамках домашнего). Ревьювером назначаете http://github.com/michael15346/ .\nПеред сдачей проверьте код, напишите тесты. Не забудьте про PEP8, например, с помощью flake8. Задание нужно делать в jupyter notebook.\n\n**Дедлайн - 21 октября 10:00**",
      "metadata": {
        "ExecuteTime": {
          "end_time": "2024-09-23T05:46:49.255523Z",
          "start_time": "2024-09-23T05:46:49.234264Z"
        }
      }
    },
    {
      "id": "d33c83c9",
      "cell_type": "markdown",
      "source": "# Введение\n\n**Выравнивание последовательностей** — фундаментальный инструмент в биоинформатике, позволяющий сравнивать биологические последовательности (ДНК, РНК, белки) для выявления сходства, которое может указывать на функциональные, структурные или эволюционные связи между ними.\n\n**Парное выравнивание** подразумевает сравнение двух последовательностей для определения наилучшего соответствия между их элементами (нуклеотидами или аминокислотами). Существует два основных типа парного выравнивания:\n\n- **Глобальное выравнивание**: направлено на выравнивание всей длины двух последовательностей, максимально учитывая все элементы.\n- **Локальное выравнивание**: нацелено на поиск наилучшего соответствующего участка внутри двух последовательностей.\n\nВ данном домашнем задании мы с вами сконцентрируемся на **глобальном выравнивании**.",
      "metadata": {}
    },
    {
      "id": "3265888c",
      "cell_type": "markdown",
      "source": "### Пример парного выравнивания\n\nРассмотрим две нуклеотидные последовательности:\n\n```\nПоследовательность 1 (Seq1): A G C T A C G A\nПоследовательность 2 (Seq2): G C T A G A\n```\n\n**Глобальное выравнивание** (учитывает всю длину последовательностей):\n\n```\nSeq1: A G C T A C G A\nSeq2: - G C T A - G A\n```",
      "metadata": {}
    },
    {
      "id": "575fa50e",
      "cell_type": "markdown",
      "source": "### Значение выравнивания последовательностей\n\n- **Эволюционные связи**: Сходство между последовательностями может указывать на общих предков.\n- **Функциональные домены**: Выравнивание помогает идентифицировать консервативные участки, важные для функции белка или нуклеиновой кислоты.\n- **Геномные исследования**: Используется для аннотации генов, предсказания структур и понимания генетических вариаций.",
      "metadata": {}
    },
    {
      "id": "75ff52f7",
      "cell_type": "markdown",
      "source": "## Алгоритм выравнивания\n\n- Для автоматизации процесса выравнивания используется **Алгоритм Нидлмана-Вунша**. Он предназначен для глобального выравнивания и использует динамическое программирование для нахождения оптимального выравнивания по всей длине последовательностей. \n- Для оценки сходства при выравнивании белковых последовательностей используется матрица **BLOSUM** (Blocks Substitution Matrix). Матрицы BLOSUM создаются на основе статистического анализа реальных белковых множественных выравниваний последовательностей.",
      "metadata": {}
    },
    {
      "id": "5ee2122f",
      "cell_type": "markdown",
      "source": "### Пример множественного выравнивания (для построения матрциы BLOSUM)\n\nРассмотрим нуклеотидные последовательности:\n\n```\nПоследовательность 1 (Seq1): A G C T A C G T G T C G C T G A A T C T A T G A C T\nПоследовательность 2 (Seq2): G C T A G A G C A A G G C A A C T G C A T C T\nПоследовательность 3 (Seq3): A C T G C A C C C A T G A A C C T C G C G C T\nПоследовательность 4 (Seq4): A C T G C A C C C A T G A A C C T C T C G C T\nПоследовательность 5 (Seq5): A C T G C A C C C A T G A A C C T C T C G C T\nПоследовательность 6 (Seq6): A C T G C A C C C A T G A A C C T C T C A C T\nПоследовательность 7 (Seq7): A C T G C A C C C A T G A A C C T C T C A C T\n```\n\n**Множественное выравнивание**:\n\n```\nSeq1: A G C T A C G T G T C G C T G A A T C T A T G A C T\nSeq2: - G C T A - G A G C A - A G G C A A C T G C A T C T\nSeq3: A - C T G - C A C C C - A T G A A C C T C G C G C T\nSeq4: A - C T G - C A C C C - A T G A A C C T C T C G C T\nSeq5: A - C T G - C A C C C - A T G A A C C T C T C G C T\nSeq6: A - C T G - C A C C C - A T G A A C C T C T C A C T\nSeq7: A - C T G - C A C C C - A T G A A C C T C T C A C T\n```",
      "metadata": {}
    },
    {
      "id": "fe15af34",
      "cell_type": "markdown",
      "source": "Перед тем как приступать к реализации парного выравнивания давайте научимся считать матрицу BLOSUM.",
      "metadata": {}
    },
    {
      "id": "4efffee5",
      "cell_type": "markdown",
      "source": "# Матрица BLOSUM",
      "metadata": {}
    },
    {
      "id": "d424f7b8",
      "cell_type": "markdown",
      "source": "## Подсчет частот пар нуклеотидов\n\n### Шаг 1.1: Генерация пар нуклеотидов\n\nНапишите функцию `generate_pairs(alignments)`, которая проходит по всем позициям выравнивания (одного столбца) и генерирует все возможные пары нуклеотидов в этой позиции.\n\n**Пример**:\n\nРассмотрим на примере множественного выравнивания выше:\n\n```\ngenerate_pairs([\"A\", \"A\", \"G\"])\n[('A', 'A'), ('A', 'G'), ('A', 'G')]\n\ngenerate_pairs([\"T\", \"T\", \"T\"])\n[('T', 'T'), ('T', 'T'), ('T', 'T')]\n\ngenerate_pairs([\"G\", \"G\", \"-\"])\n[('G', 'G'), ('G', '-'), ('G', '-')]\n\nlen(generate_pairs(['A', 'T', 'G', 'G', 'G', 'A', 'A']))\n21\n```",
      "metadata": {
        "ExecuteTime": {
          "end_time": "2024-09-19T05:35:03.002840Z",
          "start_time": "2024-09-19T05:35:02.980986Z"
        }
      }
    },
    {
      "id": "a693a08c",
      "cell_type": "code",
      "source": "alignments = [\"AGCTACGTGTCGCTGAATCTATGACT\", \n              \"-GCTA-GAGCA-AGGCAACTGCATCT\", \n              \"A-CTG-CACCC-ATGAACCTCGCGCT\",\n              \"A-CTG-CACCC-ATGAACCTCTCGCT\",\n              \"A-CTG-CACCC-ATGAACCTCTCGCT\",\n              \"A-CTG-CACCC-ATGAACCTCTCACT\",\n              \"A-CTG-CACCC-ATGAACCTCTCACT\"\n             ]\n",
      "metadata": {
        "ExecuteTime": {
          "end_time": "2024-09-20T07:42:12.795151Z",
          "start_time": "2024-09-20T07:42:12.788005Z"
        },
        "trusted": true
      },
      "outputs": [],
      "execution_count": 26
    },
    {
      "id": "cc0fda11",
      "cell_type": "code",
      "source": "# i - номер столбца для подсчёта\ndef generate_pairs(alignments, i):\n    massiv=[]\n    for j in range(len(alignments)-1):\n        for k in range(j+1,len(alignments)):\n            massiv.append([alignments[j][i],alignments[k][i]])\n    return massiv\nprint((generate_pairs(alignments, 0)))",
      "metadata": {
        "ExecuteTime": {
          "end_time": "2024-09-20T07:42:12.798926Z",
          "start_time": "2024-09-20T07:42:12.796705Z"
        },
        "trusted": true
      },
      "outputs": [
        {
          "name": "stdout",
          "text": "[['A', '-'], ['A', 'A'], ['A', 'A'], ['A', 'A'], ['A', 'A'], ['A', 'A'], ['-', 'A'], ['-', 'A'], ['-', 'A'], ['-', 'A'], ['-', 'A'], ['A', 'A'], ['A', 'A'], ['A', 'A'], ['A', 'A'], ['A', 'A'], ['A', 'A'], ['A', 'A'], ['A', 'A'], ['A', 'A'], ['A', 'A']]\n",
          "output_type": "stream"
        }
      ],
      "execution_count": 113
    },
    {
      "id": "b2a33a17",
      "cell_type": "markdown",
      "source": "### Шаг 1.2: Подсчет частот пар\n\nИспользуйте полученные пары для подсчета частоты каждой пары нуклеотидов. Создайте словарь `pair_counts`, где ключом является кортеж из двух нуклеотидов, а значением — количество их совместных появлений. Пропуски в выравнивании нужно пропускать (если один из символ в выравнивании `'-'`)\n\n**Подсказка**: Учитывайте, что матрица симметрична, поэтому пары `('A','G')` и `('G','A')` должны считаться одинаковыми.\n\n**Пример**:\n\n```\npair_counts = count_pairs(alignments)\npair_counts\n{('A', 'A'): 85, ('G', 'G'): 37, ('C', 'C'): 143, ('T', 'T'): 88, ('A', 'G'): 21, \n ('C', 'G'): 31, ('A', 'T'): 10, ('C', 'T'): 16, ('A', 'C'): 33, ('G', 'T'): 14}\n```",
      "metadata": {}
    },
    {
      "id": "70cc891c",
      "cell_type": "code",
      "source": "def count_pairs(alignments):\n    pair_counts={}\n    for i in range(len(alignments[0])):\n        arr=generate_pairs(alignments, i)\n        for j in range(len(arr)):\n            if (arr[j][0]!= '-') and (arr[j][1] != '-'):\n                if (pair_counts.get(tuple(arr[j][:])) or (pair_counts.get(tuple(arr[j][::-1])))) == None:\n                    pair_counts.setdefault(tuple(arr[j][:]),1)\n                elif  pair_counts.get(tuple(arr[j][:]))!= None :\n                    pair_counts[tuple(arr[j][::])]+=1\n                else:\n                    pair_counts[tuple(arr[j][::-1])]+=1\n    return pair_counts\npair_counts=count_pairs(alignments)\npair_counts",
      "metadata": {
        "ExecuteTime": {
          "end_time": "2024-09-20T07:42:12.805520Z",
          "start_time": "2024-09-20T07:42:12.803627Z"
        },
        "trusted": true
      },
      "outputs": [
        {
          "execution_count": 179,
          "output_type": "execute_result",
          "data": {
            "text/plain": "{('A', 'A'): 85,\n ('G', 'G'): 37,\n ('C', 'C'): 143,\n ('T', 'T'): 88,\n ('A', 'G'): 21,\n ('G', 'C'): 31,\n ('T', 'A'): 10,\n ('T', 'C'): 16,\n ('C', 'A'): 33,\n ('T', 'G'): 14}"
          },
          "metadata": {}
        }
      ],
      "execution_count": 183
    },
    {
      "id": "528faeca",
      "cell_type": "markdown",
      "source": "## Вычисление ожидаемых частот",
      "metadata": {}
    },
    {
      "id": "351ef841",
      "cell_type": "markdown",
      "source": "Реализуйте функцию `calculate_frequencies`, которая будет вычислять частоту нуклеотида по множественному выравниванию\n\n**Пример**:\n\n```\nfreqs = calculate_frequencies(alignments)\nprint(\"Частоты:\")\nfor x, freq in freqs.items():\n    print(f\"{x}: {freq:.4f}\")\n    \nЧастоты:\nA: 0.2439\nG: 0.1585\nC: 0.3780\nT: 0.2195\n```",
      "metadata": {
        "ExecuteTime": {
          "end_time": "2024-09-19T07:27:32.026037Z",
          "start_time": "2024-09-19T07:27:32.008635Z"
        }
      }
    },
    {
      "id": "ae017aee",
      "cell_type": "code",
      "source": "def calculate_frequencies(alignments):\n    dict2=count_pairs(alignments)\n    dict1={}\n    nuleotid,count=[],[]\n    count=0\n    for  arr1,arr2 in dict2.items():\n        if dict1.get(tuple([arr1[0]]))== None:\n            dict1.setdefault(tuple([arr1[0]]),0)\n        if dict1.get(tuple([arr1[1]]))== None:\n            dict1.setdefault(tuple([arr1[1]]),0)\n        dict1[tuple(arr1[0])]+=arr2\n        dict1[tuple(arr1[1])]+=arr2\n        count+=arr2*2\n    for arr1,arr2 in dict1.items():\n        dict1[arr1]=arr2/count\n    return dict1\nfreqs=calculate_frequencies(alignments)\nfreqs",
      "metadata": {
        "ExecuteTime": {
          "end_time": "2024-09-20T07:55:17.618141Z",
          "start_time": "2024-09-20T07:55:17.610470Z"
        },
        "trusted": true
      },
      "outputs": [
        {
          "execution_count": 144,
          "output_type": "execute_result",
          "data": {
            "text/plain": "{('A',): 0.24476987447698745,\n ('G',): 0.14644351464435146,\n ('C',): 0.38284518828451886,\n ('T',): 0.22594142259414227}"
          },
          "metadata": {}
        }
      ],
      "execution_count": 148
    },
    {
      "id": "6bcd02ff",
      "cell_type": "markdown",
      "source": "##  Расчет логарифмических коэффициентов",
      "metadata": {}
    },
    {
      "id": "056d0896",
      "cell_type": "markdown",
      "source": "- Для каждой пары нуклеотидов `(x, y)` вычислите логарифмический коэффициент замены по формуле:\n\n\n$$S(x, y) = scale * \\log_2 \\left( \\frac{observed\\_freq[x, y]}{expected\\_freq[x, y]} \\right)$$\n\n- Здесь `observed_freq` — наблюдаемая частота пары из `pair_counts` деленное на общее количество пар, а `expected_freq` — ожидаемая частота, которую можно вычислить как `expected_freq[x, y] = freqs[x] * freqs[y]`\n\n- Для удобства представления округлите значения `S(x, y)` до целых чисел, умножив на масштабный фактор (например, 3).\n\n**Пример:**\n\n```python\nscores = calculate_scores(pair_counts, freqs)\nscores\n{('A', 'A'): 5, ('G', 'G'): 5, ('C', 'C'): 3, ('T', 'T'): 6, ('A', 'G'): 1,\n ('C', 'G'): 0, ('A', 'T'): -4, ('C', 'T'): -4, ('A', 'C'): -1, ('G', 'T'): -1}\n```\n",
      "metadata": {}
    },
    {
      "id": "96bfcb12",
      "cell_type": "code",
      "source": "from math import log,ceil,floor\ndef calculate_scores(pair_counts, freqs, scale=3):\n    count1=sum(pair_counts.values())\n    for arr1,arr2 in pair_counts.items():\n        pair_counts1[arr1]=round(scale*log((arr2/count1)/(freqs.setdefault(tuple(arr1[0]))*freqs.setdefault(tuple(arr1[1]))),2))\n    return pair_counts1\nscores=calculate_scores(pair_counts, freqs, scale=3)\nscores",
      "metadata": {
        "ExecuteTime": {
          "end_time": "2024-09-20T07:57:32.470771Z",
          "start_time": "2024-09-20T07:57:32.458314Z"
        },
        "trusted": true
      },
      "outputs": [
        {
          "execution_count": 200,
          "output_type": "execute_result",
          "data": {
            "text/plain": "{('A', 'A'): 5,\n ('G', 'G'): 6,\n ('C', 'C'): 3,\n ('T', 'T'): 6,\n ('A', 'G'): 1,\n ('G', 'C'): 1,\n ('T', 'A'): -4,\n ('T', 'C'): -4,\n ('C', 'A'): -1,\n ('T', 'G'): -1}"
          },
          "metadata": {}
        }
      ],
      "execution_count": 204
    },
    {
      "id": "876ab787",
      "cell_type": "markdown",
      "source": "\n## Составление матрицы BLOSUM\n\n### Шаг 4.1: Заполнение матрицы\n\n- Реализуйте функцию `create_blosum_matrix`, для создания BLOSUM матрицы.\n- Используйте рассчитанные ранее логарифмические коэффициенты `scores` для заполнения матрицы.\n- Учитывайте, что матрица симметрична: `S(x, y) = S(y, x)`.\n\n**Пример:**\n\n```python\nblosum_matrix = create_blosum_matrix(scores, nucleotides)\nblosum_matrix\n{'A': {'A': 5, 'G': 1, 'C': -1, 'T': -4},\n 'G': {'A': 1, 'G': 5, 'C': 0, 'T': -1},\n 'C': {'A': -1, 'G': 0, 'C': 3, 'T': -4},\n 'T': {'A': -4, 'G': -1, 'C': -4, 'T': 6}}\n```\n",
      "metadata": {}
    },
    {
      "id": "e28e3f2c",
      "cell_type": "code",
      "source": "def create_blosum_matrix(scores):\n    slovar={'A':{},'G':{},'C':{},'T':{}}\n    for arr1,arr2 in scores.items():\n        slovar[str(arr1[0])][str(arr1[1])]=arr2\n        slovar[str(arr1[1])][str(arr1[0])]=arr2\n    return slovar\nblosum_matrix=create_blosum_matrix(scores)\nprint(blosum_matrix)",
      "metadata": {
        "ExecuteTime": {
          "end_time": "2024-09-20T07:49:45.687263Z",
          "start_time": "2024-09-20T07:49:45.676996Z"
        },
        "trusted": true
      },
      "outputs": [
        {
          "name": "stdout",
          "text": "{'A': {'A': 5, 'G': 1, 'T': -4, 'C': -1}, 'G': {'G': 6, 'A': 1, 'C': 1, 'T': -1}, 'C': {'C': 3, 'G': 1, 'T': -4, 'A': -1}, 'T': {'T': 6, 'A': -4, 'C': -4, 'G': -1}}\n",
          "output_type": "stream"
        }
      ],
      "execution_count": 244
    },
    {
      "id": "f3b9efbe",
      "cell_type": "markdown",
      "source": "### Шаг 4.2: Вывод матрицы\n\n- Выведите матрицу BLOSUM в удобочитаемом формате, например, как таблицу с заголовками.\n\n**Пример:**\n\n```python\nprint_blosum_matrix(blosum_matrix, nucleotides)\n    A   G   C   T\nA   5   1  -1  -4\nG   1   5   0  -1\nC  -1   0   3  -4\nT  -4  -1  -4   6\n```",
      "metadata": {
        "ExecuteTime": {
          "end_time": "2024-09-19T07:55:20.436835Z",
          "start_time": "2024-09-19T07:55:20.420618Z"
        }
      }
    },
    {
      "id": "93ee6754",
      "cell_type": "code",
      "source": "def print_blosum_matrix(matrix):\n    row=['A','G','C','T']\n    column=['A','G','C','T']\n    print('  A G  C  T')\n    for i in row:\n        print(i, matrix[i][row[0]],matrix[i][row[1]],matrix[i][row[2]],matrix[i][row[3]])\nprint_blosum_matrix(matrix)",
      "metadata": {
        "ExecuteTime": {
          "end_time": "2024-09-20T07:50:02.894882Z",
          "start_time": "2024-09-20T07:50:02.881450Z"
        },
        "trusted": true,
        "tags": [],
        "editable": true,
        "slideshow": {
          "slide_type": ""
        }
      },
      "outputs": [
        {
          "name": "stdout",
          "text": "  A G  C  T\nA 5 1 -1 -4\nG 1 6 1 -1\nC -1 1 3 -4\nT -4 -1 -4 6\n",
          "output_type": "stream"
        }
      ],
      "execution_count": 224
    },
    {
      "id": "990c0c7a",
      "cell_type": "markdown",
      "source": "## Визуализация результатов\n\nЗапустите код для визуализации результатов. Здесь вам понадобится установить библиотеки. Для этого в консоли выполните:\n```\npip install numpy\npip install seaborn\npip install matplotlib\n```",
      "metadata": {}
    },
    {
      "id": "e6dc51ef",
      "cell_type": "code",
      "source": "import numpy as np\nimport seaborn as sns\nimport matplotlib.pyplot as plt\n\ndef visualize_blosum_matrix(matrix, nucleotides):\n    data = np.array([[matrix[x][y] for y in nucleotides] for x in nucleotides])\n    plt.figure(figsize=(10, 8))\n    sns.heatmap(data, xticklabels=nucleotides, yticklabels=nucleotides, annot=True, cmap=\"coolwarm\")\n    plt.title(\"Матрица BLOSUM\")\n    plt.show()\n\n# Пример использования\nvisualize_blosum_matrix(blosum_matrix, nucleotides)",
      "metadata": {
        "ExecuteTime": {
          "end_time": "2024-09-20T07:50:05.193727Z",
          "start_time": "2024-09-20T07:50:05.053305Z"
        },
        "trusted": true,
        "tags": [],
        "editable": true,
        "slideshow": {
          "slide_type": ""
        }
      },
      "outputs": [
        {
          "ename": "<class 'ModuleNotFoundError'>",
          "evalue": "No module named 'seaborn'",
          "traceback": [
            "\u001b[0;31m---------------------------------------------------------------------------\u001b[0m",
            "\u001b[0;31mModuleNotFoundError\u001b[0m                       Traceback (most recent call last)",
            "Cell \u001b[0;32mIn[221], line 2\u001b[0m\n\u001b[1;32m      1\u001b[0m \u001b[38;5;28;01mimport\u001b[39;00m \u001b[38;5;21;01mnumpy\u001b[39;00m \u001b[38;5;28;01mas\u001b[39;00m \u001b[38;5;21;01mnp\u001b[39;00m\n\u001b[0;32m----> 2\u001b[0m \u001b[38;5;28;01mimport\u001b[39;00m \u001b[38;5;21;01mseaborn\u001b[39;00m \u001b[38;5;28;01mas\u001b[39;00m \u001b[38;5;21;01msns\u001b[39;00m\n\u001b[1;32m      3\u001b[0m \u001b[38;5;28;01mimport\u001b[39;00m \u001b[38;5;21;01mmatplotlib\u001b[39;00m\u001b[38;5;21;01m.\u001b[39;00m\u001b[38;5;21;01mpyplot\u001b[39;00m \u001b[38;5;28;01mas\u001b[39;00m \u001b[38;5;21;01mplt\u001b[39;00m\n\u001b[1;32m      5\u001b[0m \u001b[38;5;28;01mdef\u001b[39;00m \u001b[38;5;21mvisualize_blosum_matrix\u001b[39m(matrix, nucleotides):\n",
            "\u001b[0;31mModuleNotFoundError\u001b[0m: No module named 'seaborn'"
          ],
          "output_type": "error"
        }
      ],
      "execution_count": 225
    },
    {
      "id": "ea3ccc74",
      "cell_type": "markdown",
      "source": "# Реализация алгоритма Нидлмана-Вунша",
      "metadata": {}
    },
    {
      "id": "5c4b370c",
      "cell_type": "markdown",
      "source": "### Шаг 5: Инициализация матрицы динамического программирования\n\nТеперь перейдём к реализации алгоритма [Нидлмана-Вунша](https://en.wikipedia.org/wiki/Needleman%E2%80%93Wunsch_algorithm).\n\nРеализуйте функцию `init`, которая по $m, n$ и ошибке $\\sigma$ строит матрицу c $m + 1$ строкой и $n + 1$ столбцом:\n\n$$A_{m,n} = \\begin{pmatrix} 0 & -\\sigma & \\cdots & -n \\sigma \\\\ -\\sigma & 0 & \\cdots & 0 \\\\ \\vdots & \\vdots & \\ddots & \\vdots \\\\ -m\\sigma & 0 & \\cdots & 0 \\end{pmatrix} $$\n\n**Пример:**\n\n```python\nprint(init(3, 3, 4))\n[[0, -4, -8, -12], [-4, 0, 0, 0], [-8, 0, 0, 0], [-12, 0, 0, 0]]\n```",
      "metadata": {
        "tags": [],
        "editable": true,
        "slideshow": {
          "slide_type": ""
        }
      }
    },
    {
      "id": "c283ca17",
      "cell_type": "code",
      "source": "def init(m, n, gap_penalty=10):\n    A = [[0 for i in range(n + 1)] for j in range(m + 1)]\n    for i in range(1, n + 1):\n        A[0][i] = -gap_penalty * i    \n    for i in range(1, m + 1):\n        A[i][0] = -gap_penalty * i   \n    return A\nprint(init(3, 3, 4))",
      "metadata": {
        "ExecuteTime": {
          "end_time": "2024-09-20T07:42:13.891859Z",
          "start_time": "2024-09-20T07:42:13.889917Z"
        },
        "tags": [],
        "editable": true,
        "slideshow": {
          "slide_type": ""
        },
        "trusted": true
      },
      "outputs": [
        {
          "name": "stdout",
          "text": "[[0, -4, -8, -12], [-4, 0, 0, 0], [-8, 0, 0, 0], [-12, 0, 0, 0]]\n",
          "output_type": "stream"
        }
      ],
      "execution_count": 249
    },
    {
      "id": "bfeb18d8",
      "cell_type": "markdown",
      "source": "### Шаг 6: Заполнение матрицы динамического программирования",
      "metadata": {
        "ExecuteTime": {
          "end_time": "2024-09-20T05:07:36.025808Z",
          "start_time": "2024-09-20T05:07:36.015828Z"
        },
        "tags": [],
        "editable": true,
        "slideshow": {
          "slide_type": ""
        }
      }
    },
    {
      "id": "6cf519aa",
      "cell_type": "markdown",
      "source": "Пусть `a` и `b` - две последовательности, которые хотим выравнять. Теперь имея пустую матрицу, нужно научиться её заполнять. Для этого вспомним, как вычисляется очередной элемент матрицы:\n\n$$A_{i \\ j} = max \\begin{cases} A_{i-1 \\ j-1} + s(a_{i},b_{j}) & \\ \\text{Match / Mismatch}\\\\ A_{i \\ j-1} - \\sigma & \\ \\text{Insertion} \\\\ A_{i-1\\ j} - \\sigma & \\ \\text{Deletion} \\end{cases}$$\n\nгде $s(a_{i},b_{j})$ - значение матрицы BLOSUM для нуклеотидов $a_{i}$ и $b_{j}$, $\\sigma$ - штраф за пропуск символа в выравнивании (параметр)",
      "metadata": {}
    },
    {
      "id": "29cceaaf",
      "cell_type": "markdown",
      "source": "### Шаг 7: Вычисление значения матрицы",
      "metadata": {}
    },
    {
      "id": "13d9795b",
      "cell_type": "markdown",
      "source": "Реализуйте функцию `get_new_score`, которая принимает на вход 5 параметров - `up` ($A_{i-1\\ j}$), `left` ($A_{i \\ j-1}$), `middle` ($A_{i-1 \\ j-1}$), `s_score` ($s(a_{i},b_{j})$), `gap_penalty` ($\\sigma$), и вычисляет значение для матрицы $A_{i\\ j}$\n\n**Пример:**\n\n```python\nprint(get_new_score(0, 10, 2, 0, 2))\n8\nprint(get_new_score(-16, -7, -14, 0, 2))\n-9\n```",
      "metadata": {}
    },
    {
      "id": "6aba390b",
      "cell_type": "code",
      "source": "def get_new_score(up, left, middle, s_score, gap_penalty):\n    score_up = up - gap_penalty\n    score_left = left - gap_penalty\n    score_middle = middle + s_score\n    return max(score_up, score_left, score_middle)\n    \nprint(get_new_score(0, 10, 2, 0, 2))",
      "metadata": {
        "ExecuteTime": {
          "end_time": "2024-09-20T07:42:13.901858Z",
          "start_time": "2024-09-20T07:42:13.899848Z"
        },
        "trusted": true
      },
      "outputs": [
        {
          "name": "stdout",
          "text": "8\n",
          "output_type": "stream"
        }
      ],
      "execution_count": 241
    },
    {
      "id": "c4efe8f2",
      "cell_type": "markdown",
      "source": "### Шаг 8 Заполнение матрицы",
      "metadata": {}
    },
    {
      "id": "2139631a",
      "cell_type": "markdown",
      "source": "Реализуйте функцию `align`,  которая на вход принимает две последовательности ДНК, штраф за пропуск ($\\sigma$), матрицу BLOSUM и возвращает заполненную матрицу `A`.\n\n**Пример:**\n\n```python\ntop_seq = \"AGTACGCA\"\nbottom_seq = \"TATGC\"\ngap_penalty = 2\n\nprint(align(top_seq, bottom_seq, gap_penalty, blosum_matrix))\n[[0, -2, -4, -6, -8, -10, -12, -14, -16],\n [-2, -4, -3, 2, 0, -2, -4, -6, -8],\n [-4, 3, 1, 0, 7, 5, 3, 1, -1],\n [-6, 1, 2, 7, 5, 3, 4, 2, 0],\n [-8, -1, 6, 5, 8, 6, 8, 6, 4],\n [-10, -3, 4, 3, 6, 11, 9, 11, 9]]\n```",
      "metadata": {}
    },
    {
      "id": "889554a2",
      "cell_type": "code",
      "source": "top_seq = \"AGTACGCA\"\nbottom_seq = \"TATGC\"\ngap_penalty = 2",
      "metadata": {
        "ExecuteTime": {
          "end_time": "2024-09-20T07:42:13.907603Z",
          "start_time": "2024-09-20T07:42:13.906050Z"
        },
        "trusted": true
      },
      "outputs": [],
      "execution_count": 242
    },
    {
      "id": "e2f22469",
      "cell_type": "code",
      "source": "def align(top_seq, bottom_seq, gap_penalty, blosum_matrix):\n    m = len(top_seq)\n    n = len(bottom_seq)\n    A = init(m, n, gap_penalty)\n\n    for i in range(1, m + 1):\n        for j in range(1, n + 1):\n            a_i = top_seq[i - 1]\n            b_j = bottom_seq[j - 1]\n            s_score = blosum_matrix[a_i][b_j]\n            A[i][j] = get_new_score(A[i - 1][j], A[i][j - 1], A[i - 1][j - 1], s_score, gap_penalty)\n    return A\nresult = align(top_seq, bottom_seq, gap_penalty, blosum_matrix)\nfor row in result:\n    print(row)",
      "metadata": {
        "ExecuteTime": {
          "end_time": "2024-09-20T07:42:13.914057Z",
          "start_time": "2024-09-20T07:42:13.908397Z"
        },
        "trusted": true
      },
      "outputs": [
        {
          "name": "stdout",
          "text": "[0, -2, -4, -6, -8, -10]\n[-2, -4, 3, 1, -1, -3]\n[-4, -3, 1, 2, 7, 5]\n[-6, 2, 0, 7, 5, 3]\n[-8, 0, 7, 5, 8, 6]\n[-10, -2, 5, 3, 6, 11]\n[-12, -4, 3, 4, 9, 9]\n[-14, -6, 1, 2, 7, 12]\n[-16, -8, -1, 0, 5, 10]\n",
          "output_type": "stream"
        }
      ],
      "execution_count": 256
    },
    {
      "id": "f68198b6",
      "cell_type": "markdown",
      "source": "### Шаг 9: Построение выравнивания\n\nТеперь имея матрицу выравнивания построим самое выравнивание.\n\nРеализуйте функцию get_alignment, которая по двум последовательностям, матрице выравнивания, штрафа за пропуски, бонусам за совпадение/несовпадение нуклеотидов строит выравнивание.\n\n**Пример:**\n\n```python\n\ntop_seq = \"AGTACGCA\"\nbottom_seq = \"TATGC\"\ngap_penalty = 2\nsm = align(top_seq, bottom_seq, gap_penalty, blosum_matrix)\naligns = get_alignment(top_seq, bottom_seq, sm, gap_penalty, blosum_matrix)\nprint(aligns[0])\nprint(aligns[1])\nTA-T--GC-\n-AGTACGCA\n\ntop_seq = \"AGTCTCCCCC\"\nbottom_seq = \"ACTTCTACCCCAGC\"\nsm = align(top_seq, bottom_seq, gap_penalty, blosum_matrix)\naligns = get_alignment(top_seq, bottom_seq, sm, gap_penalty, blosum_matrix)\nprint(aligns[0])\nprint(aligns[1])\nACTTCTACCCCAGC\nAGT-CT-CCCC--C\n```",
      "metadata": {
        "ExecuteTime": {
          "end_time": "2024-09-20T06:44:17.331762Z",
          "start_time": "2024-09-20T06:44:17.321308Z"
        }
      }
    },
    {
      "id": "4449d97e",
      "cell_type": "code",
      "source": "def get_alignment(top_seq, bottom_seq, sm, gap_penalty, blosum_matrix):\n    aligned_top = []\n    aligned_bottom = []\n    i = len(top_seq)\n    j = len(bottom_seq)\n    while i > 0 and j > 0:\n        score = sm[i][j]\n        score_diag = sm[i - 1][j - 1]\n        score_up = sm[i - 1][j]\n        score_left = sm[i][j - 1]\n        if score == score_diag + blosum_matrix[top_seq[i - 1]][bottom_seq[j - 1]]:   # если текущ знач = диаг знач + оценка совпадения из матрицы BLOSUM, то мы выровняли оба символа\n            aligned_top.append(top_seq[i - 1])\n            aligned_bottom.append(bottom_seq[j - 1])\n            i -= 1\n            j -= 1\n        elif score == score_up - gap_penalty:                                        # иначе штраф\n            aligned_top.append(top_seq[i - 1])\n            aligned_bottom.append('-')\n            i -= 1\n        elif score == score_left - gap_penalty:                                      # если текущее значение равно значению слева - штраф\n            aligned_top.append('-')\n            aligned_bottom.append(bottom_seq[j - 1])\n            j -= 1\n\n    while i > 0:                                                                     # обработка оставш символов в одной из послед\n        aligned_top.append(top_seq[i - 1])\n        aligned_bottom.append('-')\n        i -= 1\n    while j > 0:\n        aligned_top.append('-')\n        aligned_bottom.append(bottom_seq[j - 1])\n        j -= 1\n    return [''.join(reversed(aligned_top)), ''.join(reversed(aligned_bottom))]       # выравненные строки в правильном порядке\n\ntop_seq = \"AGTACGCA\"\nbottom_seq = \"TATGC\"\ngap_penalty = 2\nsm = align(top_seq, bottom_seq, gap_penalty, blosum_matrix)\naligns = get_alignment(top_seq, bottom_seq, sm, gap_penalty, blosum_matrix)\n\nprint(aligns[0])\nprint(aligns[1])",
      "metadata": {
        "ExecuteTime": {
          "end_time": "2024-09-20T07:42:13.929902Z",
          "start_time": "2024-09-20T07:42:13.928023Z"
        }
      },
      "outputs": [],
      "execution_count": null
    },
    {
      "id": "0c8daed3",
      "cell_type": "markdown",
      "source": "## Поздравляю! Мы научились выравнивать ДНК!",
      "metadata": {
        "ExecuteTime": {
          "end_time": "2024-09-20T08:00:23.468052Z",
          "start_time": "2024-09-20T08:00:23.453507Z"
        }
      }
    }
  ]
}